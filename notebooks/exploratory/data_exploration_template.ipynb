{
 "cells": [
  {
   "cell_type": "markdown",
   "id": "ea299a50",
   "metadata": {},
   "source": [
    "# Data Exploration Template\n",
    "\n",
    "This notebook provides a template for exploring datasets with common analysis patterns and visualizations.\n",
    "\n",
    "## Table of Contents\n",
    "1. [Setup and Data Loading](#setup)\n",
    "2. [Dataset Overview](#overview)\n",
    "3. [Data Quality Assessment](#quality)\n",
    "4. [Exploratory Data Analysis](#eda)\n",
    "5. [Feature Analysis](#features)\n",
    "6. [Correlation Analysis](#correlation)\n",
    "7. [Target Variable Analysis](#target)\n",
    "8. [Key Insights and Next Steps](#insights)"
   ]
  },
  {
   "cell_type": "markdown",
   "id": "a489ad6d",
   "metadata": {},
   "source": [
    "## 1. Setup and Data Loading {#setup}"
   ]
  },
  {
   "cell_type": "code",
   "execution_count": null,
   "id": "6372b31f",
   "metadata": {},
   "outputs": [],
   "source": [
    "# Essential imports\n",
    "import pandas as pd\n",
    "import numpy as np\n",
    "import matplotlib.pyplot as plt\n",
    "import seaborn as sns\n",
    "import plotly.express as px\n",
    "import plotly.graph_objects as go\n",
    "from pathlib import Path\n",
    "import warnings\n",
    "warnings.filterwarnings('ignore')\n",
    "\n",
    "# Set plotting style\n",
    "plt.style.use('default')\n",
    "sns.set_palette(\"husl\")\n",
    "pd.set_option('display.max_columns', None)\n",
    "pd.set_option('display.max_rows', 100)\n",
    "\n",
    "# Set random seed for reproducibility\n",
    "np.random.seed(42)\n",
    "\n",
    "print(\"✅ Libraries imported successfully!\")\n",
    "print(f\"Pandas version: {pd.__version__}\")\n",
    "print(f\"NumPy version: {np.__version__}\")\n",
    "print(f\"Matplotlib version: {plt.matplotlib.__version__}\")\n",
    "print(f\"Seaborn version: {sns.__version__}\")"
   ]
  },
  {
   "cell_type": "code",
   "execution_count": null,
   "id": "eeaef636",
   "metadata": {},
   "outputs": [],
   "source": [
    "# Load sample data for demonstration (replace with your actual data loading)\n",
    "from sklearn.datasets import load_wine\n",
    "\n",
    "# Load wine dataset as example\n",
    "wine_data = load_wine()\n",
    "df = pd.DataFrame(wine_data.data, columns=wine_data.feature_names)\n",
    "df['target'] = wine_data.target\n",
    "df['target_name'] = df['target'].map({0: 'class_0', 1: 'class_1', 2: 'class_2'})\n",
    "\n",
    "print(f\"✅ Dataset loaded successfully!\")\n",
    "print(f\"Shape: {df.shape}\")\n",
    "print(f\"Dataset: Wine classification dataset (demonstration)\")\n",
    "print(f\"Target classes: {wine_data.target_names}\")\n",
    "\n",
    "# Display first few rows\n",
    "df.head()"
   ]
  }
 ],
 "metadata": {
  "language_info": {
   "name": "python"
  }
 },
 "nbformat": 4,
 "nbformat_minor": 5
}
